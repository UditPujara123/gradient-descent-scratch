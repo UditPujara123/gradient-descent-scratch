{
 "cells": [
  {
   "cell_type": "code",
   "execution_count": 3,
   "id": "d503c82c",
   "metadata": {},
   "outputs": [],
   "source": [
    "import numpy as np \n",
    "x=np.array([1,2,3,4,5])\n",
    "y=np.array([5,7,9,11,13])"
   ]
  },
  {
   "cell_type": "code",
   "execution_count": 40,
   "id": "38408364",
   "metadata": {},
   "outputs": [
    {
     "name": "stdout",
     "output_type": "stream",
     "text": [
      "mcuur 0.14384868948304994\n",
      "b_curr 0.018000000000000002\n",
      "[0. 0. 0. 0. 0.]\n",
      "89.0\n",
      "mcuur 0.2707014518781142\n",
      "b_curr 0.03385563614405225\n",
      "[0.64288924 0.85753558 1.07218193 1.28682827 1.50147462]\n",
      "69.22527472779072\n",
      "mcuur 0.38256663864478324\n",
      "b_curr 0.047820303345676864\n",
      "[1.20980256 1.61373448 2.0176664  2.42159832 2.82553024]\n",
      "53.84784914578839\n",
      "mcuur 0.48121528107607064\n",
      "b_curr 0.060117453689610564\n",
      "[1.70971779 2.28057131 2.85142483 3.42227835 3.99313187]\n",
      "41.88989596462358\n",
      "mcuur 0.5682091336277851\n",
      "b_curr 0.07094413467561475\n",
      "[2.15055186 2.86860568 3.58665951 4.30471333 5.02276715]\n",
      "32.59102729561247\n",
      "mcuur 0.6449254034615788\n",
      "b_curr 0.08047410935986124\n",
      "[2.53928621 3.38714943 4.23501266 5.08287588 5.93073911]\n",
      "25.35994266315659\n",
      "mcuur 0.7125785577807058\n",
      "b_curr 0.08886060779965882\n",
      "[2.88207727 3.84441403 4.80675078 5.76908753 6.73142429]\n",
      "19.736829045972595\n",
      "mcuur 0.7722395542659395\n",
      "b_curr 0.09623875336917023\n",
      "[3.18435403 4.24764062 5.31092722 6.37421381 7.4375004 ]\n",
      "15.364122019090567\n",
      "mcuur 0.824852799115275\n",
      "b_curr 0.10272770236552592\n",
      "[3.45090391 4.6032147  5.7555255  6.9078363  8.0601471 ]\n",
      "11.963768739101988\n",
      "mcuur 0.8712511012088667\n",
      "b_curr 0.10843253078484809\n",
      "[3.68594864 4.91676722 6.14758579 7.37840436 8.60922294]\n",
      "9.319546958130516\n"
     ]
    }
   ],
   "source": [
    "m_curr=b_curr=0\n",
    "learningrate=0.001\n",
    "n=len(x)\n",
    "for i in range(10):\n",
    "    yp=m_curr*x+b_curr\n",
    "    cost=1/n*sum(val**2 for  val in (y-yp))\n",
    "    md=-2/n*sum(x*(y-yp))\n",
    "    bd=-2/n*sum(y-yp)\n",
    "    m_curr=m_curr-learningrate*md\n",
    "    b_curr=b_curr-learningrate*bd\n",
    "    print( \"mcuur\",m_curr)\n",
    "    print(\"b_curr\",b_curr)\n",
    "    print(yp)\n",
    "    print(cost)"
   ]
  },
  {
   "cell_type": "code",
   "execution_count": 48,
   "id": "a41df776",
   "metadata": {},
   "outputs": [
    {
     "data": {
      "text/plain": [
       "array([89.        , 69.22527473, 53.84784915, 41.88989596, 32.5910273 ,\n",
       "       19.73682905, 15.36412202, 11.96376874,  9.31954696])"
      ]
     },
     "execution_count": 48,
     "metadata": {},
     "output_type": "execute_result"
    }
   ],
   "source": [
    "cost=np.array([89.0,69.22527472779072,53.84784914578839,41.88989596462358,32.59102729561247,19.736829045972595,15.364122019090567,11.963768739101988,9.319546958130516]\n",
    "             )\n",
    "cost"
   ]
  },
  {
   "cell_type": "code",
   "execution_count": 16,
   "id": "9e3ae33d",
   "metadata": {},
   "outputs": [
    {
     "name": "stdout",
     "output_type": "stream",
     "text": [
      "4.344073203615878\n",
      "5.836240744933244\n",
      "7.32840828625061\n",
      "8.820575827567977\n",
      "10.312743368885343\n"
     ]
    }
   ],
   "source": [
    "#for i in (y-yp):\n",
    " #print(i)"
   ]
  },
  {
   "cell_type": "code",
   "execution_count": 17,
   "id": "0331c445",
   "metadata": {},
   "outputs": [],
   "source": [
    " #x=np.array([4.344073203615878,\n",
    "5.836240744933244,\n",
    "7.32840828625061,\n",
    "8.820575827567977,\n",
    "10.312743368885343])"
   ]
  },
  {
   "cell_type": "code",
   "execution_count": 18,
   "id": "a91c519e",
   "metadata": {},
   "outputs": [
    {
     "data": {
      "text/plain": [
       "array([ 4.3440732 ,  5.83624074,  7.32840829,  8.82057583, 10.31274337])"
      ]
     },
     "execution_count": 18,
     "metadata": {},
     "output_type": "execute_result"
    }
   ],
   "source": [
    "#x"
   ]
  },
  {
   "cell_type": "code",
   "execution_count": 21,
   "id": "d2c3122c",
   "metadata": {},
   "outputs": [],
   "source": [
    "#a=x**2"
   ]
  },
  {
   "cell_type": "code",
   "execution_count": 23,
   "id": "3e1f67ee",
   "metadata": {},
   "outputs": [],
   "source": [
    "#cost=a/n"
   ]
  },
  {
   "cell_type": "code",
   "execution_count": 24,
   "id": "1f77c0e1",
   "metadata": {},
   "outputs": [
    {
     "data": {
      "text/plain": [
       "array([ 3.7741944 ,  6.81234121, 10.7411136 , 15.56051159, 21.27053516])"
      ]
     },
     "execution_count": 24,
     "metadata": {},
     "output_type": "execute_result"
    }
   ],
   "source": [
    "#cost"
   ]
  },
  {
   "cell_type": "code",
   "execution_count": 41,
   "id": "21efd107",
   "metadata": {},
   "outputs": [
    {
     "data": {
      "text/plain": [
       "<matplotlib.collections.PathCollection at 0x27d508ebd90>"
      ]
     },
     "execution_count": 41,
     "metadata": {},
     "output_type": "execute_result"
    },
    {
     "data": {
      "image/png": "[encoded data removed]",
      "text/plain": [
       "<Figure size 432x288 with 1 Axes>"
      ]
     },
     "metadata": {
      "needs_background": "light"
     },
     "output_type": "display_data"
    }
   ],
   "source": [
    "import matplotlib.pyplot as plt \n",
    "plt.scatter(x,y)\n"
   ]
  },
  {
   "cell_type": "code",
   "execution_count": 53,
   "id": "58fddd1b",
   "metadata": {},
   "outputs": [],
   "source": [
    "z=np.array([1,2,3,4,5,6,7,8,9])"
   ]
  },
  {
   "cell_type": "code",
   "execution_count": 54,
   "id": "2eac475f",
   "metadata": {},
   "outputs": [
    {
     "data": {
      "text/plain": [
       "<matplotlib.collections.PathCollection at 0x27d50b18460>"
      ]
     },
     "execution_count": 54,
     "metadata": {},
     "output_type": "execute_result"
    },
    {
     "data": {
      "image/png": "[encoded data removed]",
      "text/plain": [
       "<Figure size 432x288 with 1 Axes>"
      ]
     },
     "metadata": {
      "needs_background": "light"
     },
     "output_type": "display_data"
    }
   ],
   "source": [
    "plt.scatter(z,cost)"
   ]
  },
  {
   "cell_type": "code",
   "execution_count": 56,
   "id": "5c8c2dd6",
   "metadata": {},
   "outputs": [
    {
     "data": {
      "text/plain": [
       "[<matplotlib.lines.Line2D at 0x27d50b76d30>]"
      ]
     },
     "execution_count": 56,
     "metadata": {},
     "output_type": "execute_result"
    },
    {
     "data": {
      "image/png": "[encoded data removed]",
      "text/plain": [
       "<Figure size 432x288 with 1 Axes>"
      ]
     },
     "metadata": {
      "needs_background": "light"
     },
     "output_type": "display_data"
    }
   ],
   "source": [
    "plt.plot(z,cost)"
   ]
  },
  {
   "cell_type": "code",
   "execution_count": null,
   "id": "98cb2a2e",
   "metadata": {},
   "outputs": [],
   "source": []
  }
 ],
 "metadata": {
  "kernelspec": {
   "display_name": "Python 3",
   "language": "python",
   "name": "python3"
  },
  "language_info": {
   "codemirror_mode": {
    "name": "ipython",
    "version": 3
   },
   "file_extension": ".py",
   "mimetype": "text/x-python",
   "name": "python",
   "nbconvert_exporter": "python",
   "pygments_lexer": "ipython3",
   "version": "3.8.8"
  }
 },
 "nbformat": 4,
 "nbformat_minor": 5
}
